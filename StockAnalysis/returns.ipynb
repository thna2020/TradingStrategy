{
  "nbformat": 4,
  "nbformat_minor": 0,
  "metadata": {
    "colab": {
      "provenance": []
    },
    "kernelspec": {
      "name": "python3",
      "display_name": "Python 3"
    },
    "language_info": {
      "name": "python"
    }
  },
  "cells": [
    {
      "cell_type": "markdown",
      "source": [
        "Helen Nguyen\n",
        "\n",
        "# Calculate & Evaluate Returns\n",
        "\n",
        "- Simple returns\n",
        "- Gross returns\n",
        "- Portfolio returns\n",
        "  - of n assets with (different) weights\n",
        "  - simply the weighted average of the respective returns\n",
        "- Log returns\n",
        "  - simple return ~ ln(gross return)\n",
        "  - useful when doing factor analysis (a technique that is used to reduce a large number of variables into fewer numbers of factors)\n",
        "    - seasonality: cyclicality of of returns\n",
        "    - momentum: empirically observed tendency for rising asset prices or securities return to rise further, and falling prices to keep falling\n",
        "  - **log_return = np.log(simple_return+1)**\n",
        "    - **log_return = np.log(simple_return+1) = np.log(prices.pct_change()+1)**\n",
        "\n",
        "Stock price is a random variable in that at any moment, it can take any value.\n",
        "\n",
        "Simple return = r = (X1-X0)/X0 = (P1-P0)/P0 &rarr; the investment gains r% in value during the investment period (1 in this example).\n",
        "- **simple_return = prices.pct_change()**\n",
        "\n",
        "Simple return with dividend: r = (P1-P0)/P0 (capital gain) + D1/P0 (dividend payout)\n",
        "\n",
        "Gross return = 1 + r = X1/X0 = P1/P0 &rarr; $1 invested in this stock/portfolio increases by (1+r)% in value during the investment period (1 in this example).\n",
        "\n",
        "Multi-period return\n",
        "- Cannot just sum up all simple returns\n",
        "- Multi-period return at time 1 = (1+r1)(1+r0)-1\n",
        "\n",
        "[HPR](https://www.google.com/url?sa=i&url=https%3A%2F%2Fcipmexam.wordpress.com%2Fmulti-period-returns%2F&psig=AOvVaw2n9pt_bUMv5C-Q9T45fd_I&ust=1677133564915000&source=images&cd=vfe&ved=0CA8QjRxqGAoTCIi688S_qP0CFQAAAAAdAAAAABCJAQ)\n",
        "\n",
        "## Why Analyze Returns?\n",
        "\n",
        "- Price changes more often, and is less meaningful than Return.\n",
        "  - % change of return is relatively more stable and thus easier to model than price.\n",
        "- Prices cannot be compared over time and with one another meaningfully.\n",
        "- Price does not represent all profit-making or loss-incurring factors.\n",
        "\n",
        "&rarr; Analyze returns to find patterns and trading strategies.\n",
        "\n",
        "## Steps to Analyze Price & Simple Returns - LVMH\n",
        "\n",
        "1. Get prices\n",
        "2. Simple returns\n",
        "3. Log returns\n",
        "4. Plot returns over time\n",
        "5. Cumulative returns & plot them over \n",
        "- **cumreturns = cumprod(1+log_return)**\n",
        "6. Comment on and compare changes in returns between different periods\n",
        "- return\n",
        "- volatility\n",
        "- seasonality\n",
        "\n",
        "\n"
      ],
      "metadata": {
        "id": "eArdjl8Xh_Zw"
      }
    },
    {
      "cell_type": "code",
      "source": [],
      "metadata": {
        "id": "oW0SXse_6QGt"
      },
      "execution_count": null,
      "outputs": []
    },
    {
      "cell_type": "markdown",
      "source": [
        "## 1 Stock"
      ],
      "metadata": {
        "id": "jf-vediH9ETK"
      }
    },
    {
      "cell_type": "code",
      "execution_count": null,
      "metadata": {
        "id": "gYy2cJJMhyUh"
      },
      "outputs": [],
      "source": [
        "# # assets = ['FPT','MWG','BID', 'VCB', 'HAH']\n",
        "# # dataset = None\n",
        "# # for asset in assets:\n",
        "# #     data = get_pricing(asset, start_date='2006-03-12')\n",
        "# #     data = data.reset_index()\n",
        "# #     data['ticker'] = asset\n",
        "       \n",
        "# #     if dataset is None:\n",
        "# #       dataset = data\n",
        "# #     else:\n",
        "# #       dataset = dataset.append(data)\n",
        "\n",
        "# prices['HAH'].loc['2017-01-01':].plot()\n",
        "\n",
        "# prices['HAH'].loc['2021-01-01':].plot()\n",
        "\n",
        "# r = prices.pct_change()\n",
        "# R = np.log(r+1)\n",
        "\n",
        "# print (\"Simple retunrs:\\n\")\n",
        "# print (r['HAH'].dropna())\n",
        "# print (\"\\nLog retunrs:\\n\")\n",
        "# print (R['HAH'].dropna())\n",
        "\n",
        "# r['HAH'].loc['2017-01-01':].plot()\n",
        "\n",
        "# r['HAH'].loc['2019-01-01':].plot()\n",
        "\n",
        "# R['HAH'].loc['2017-01-01':].plot()\n",
        "\n",
        "# R['HAH'].loc['2019-01-01':].plot()\n",
        "\n",
        "# np.cumprod(1+R['HAH'].loc['2017-01-01':]).plot()\n",
        "\n",
        "# np.cumprod(1+R['HAH'].loc['2020-01-01':]).plot()\n",
        "\n",
        "# prices[['FPT','VCB','BID','MWG', 'HAH']].loc['2015-01-01':].plot(title='Price Data of 04 Stocks from 2015')\n",
        "\n",
        "# print(\"Simple returns: \\n\",r[['FPT','VCB','BID','MWG','HAH']])\n",
        "# print(\"\\nLog returns: \\n\",R[['FPT','VCB','BID','MWG','HAH']])\n",
        "\n",
        "# a =1\n",
        "# for ticker in ['FPT','VCB','BID','MWG','HAH']:\n",
        "#   plt.subplot(2,3,a)\n",
        "#   plt.title(\"Log return of \"+ticker)\n",
        "#   plt.subplots_adjust (None, None, None, None, None, 0.5)\n",
        "#   R[ticker].loc['2019-01-01':].plot()\n",
        "#   a=a+1\n",
        "\n",
        "# np.cumprod(1+R[['FPT','VCB','BID','MWG', 'HAH']].loc['2019-01-01':]).plot(title='Cumulative Return of 05 Stocks from 01 Jan 2019')\n",
        "\n",
        "# np.cumprod(1+R[['FPT','VCB','BID','MWG','HAH']].loc['2020-01-01':]).plot(title='Cumulative Return of 05 Stocks from 01 Jan 2020')\n",
        "\n",
        "# a =1\n",
        "# for ticker in ['FPT','VCB','BID','MWG','HAH']:\n",
        "#   plt.subplot(2,3,a)\n",
        "#   plt.title(\"Cumulative Return of \"+ticker)\n",
        "#   plt.subplots_adjust (None, None, None, None, None, 0.5)\n",
        "#   np.cumprod(1+R[ticker]).loc['2020-01-01':].plot()\n",
        "#   a=a+1\n",
        "\n",
        "# # np.cumprod(1+R['FPT'].loc['2020-01-01':])"
      ]
    },
    {
      "cell_type": "markdown",
      "source": [
        "## Portfolio"
      ],
      "metadata": {
        "id": "aaTdyxYz9Mc9"
      }
    },
    {
      "cell_type": "markdown",
      "source": [
        "### Airlines\n",
        "\n",
        "1. ALK - Alaska Air Group\n",
        "2. AAL - American Airlines Group\n",
        "3. DAL - Delta Air Lines\n",
        "4. LUV - Southwest Airlines\n",
        "5. UAL - United Airlines Holdings"
      ],
      "metadata": {
        "id": "F1ZqKYZd9xPN"
      }
    },
    {
      "cell_type": "code",
      "source": [
        "# assets = ['FPT','MWG','BID', 'VCB', 'VN30']\n",
        "# dataset = None\n",
        "# for asset in assets:\n",
        "#     data = get_pricing(asset, start_date='2006-03-12')\n",
        "#     data = data.reset_index()\n",
        "#     data['ticker'] = asset\n",
        "       \n",
        "#     if dataset is None:\n",
        "#       dataset = data\n",
        "#     else:\n",
        "#       dataset = dataset.append(data)\n",
        "\n",
        "# dataset = dataset.reset_index()\n",
        "# dataset\n",
        "\n",
        "# prices = None\n",
        "\n",
        "# for asset in assets:\n",
        "#     price = get_pricing(asset, start_date='2010-01-01', fields='close').rename(columns={\n",
        "#         'close': asset\n",
        "#     })\n",
        "#     if prices is None:\n",
        "#         prices = price\n",
        "#     else:\n",
        "#         prices = prices.join(price)\n",
        "\n",
        "# prices['VN30'].loc['2017-01-01':].plot()\n",
        "\n",
        "# prices['VN30'].loc['2021-01-01':].plot()\n",
        "\n",
        "# r = prices.pct_change()\n",
        "# R = np.log(r+1)\n",
        "\n",
        "# print (\"Simple retunrs:\\n\")\n",
        "# print (r['VN30'].dropna())\n",
        "# print (\"\\nLog retunrs:\\n\")\n",
        "# print (R['VN30'].dropna())\n",
        "\n",
        "# r['VN30'].loc['2017-01-01':].plot()\n",
        "\n",
        "# r['VN30'].loc['2019-01-01':].plot()\n",
        "\n",
        "# R['VN30'].loc['2017-01-01':].plot()\n",
        "\n",
        "# R['VN30'].loc['2019-01-01':].plot()\n",
        "\n",
        "# np.cumprod(1+R['VN30'].loc['2017-01-01':]).plot()\n",
        "\n",
        "# np.cumprod(1+R['VN30'].loc['2020-01-01':]).plot()\n"
      ],
      "metadata": {
        "id": "r7iAPkge5RGJ"
      },
      "execution_count": null,
      "outputs": []
    },
    {
      "cell_type": "markdown",
      "source": [
        "Simple & log returns\n",
        "\n",
        "* Giai đoạn 2019-01/2020 giao động lợi nhuận của VN30 trong khoảng +/- 3%\n",
        "* Giai đoạn 2020-2021 động lợi nhuận của VN30 thay đổi (+/- 5% & trong thời điểm Covid và +/- 7 % thời gian 02/2021\n",
        "* Thời gian gần đây (05-06/2021) +/- 4% \n",
        "\n",
        "\n",
        "Cumulative returns\n",
        "\n",
        "* Sau Covid (bắt đầu 07/2020 đến nay 06/2021) VN30 đang đà tăng trưởng tốt tỷ lệ là 1.6 so với thời điểm 01/01/2020. "
      ],
      "metadata": {
        "id": "frGFHAvX7ets"
      }
    },
    {
      "cell_type": "code",
      "source": [
        "# prices[['FPT','VCB','BID','MWG']].loc['2015-01-01':].plot(title='Price Data of 04 Stocks from 2015')\n",
        "\n",
        "# print(\"Simple returns: \\n\",r[['FPT','VCB','BID','MWG']])\n",
        "# print(\"\\nLog returns: \\n\",R[['FPT','VCB','BID','MWG']])\n",
        "\n",
        "# a =1\n",
        "# for ticker in ['FPT','VCB','BID','MWG']:\n",
        "#   plt.subplot(2,2,a)\n",
        "#   plt.title(\"Log return of \"+ticker)\n",
        "#   plt.subplots_adjust (None, None, None, None, None, 0.5)\n",
        "#   R[ticker].loc['2019-01-01':].plot()\n",
        "#   a = a+1"
      ],
      "metadata": {
        "id": "kQvH-z6n792o"
      },
      "execution_count": null,
      "outputs": []
    },
    {
      "cell_type": "markdown",
      "source": [
        "Log returns\n",
        "\n",
        "* Tương tự như VN30, giai đoạn 2019-01/2020 giao động lợi nhuận của 04 mã nói trên dao động trong khoảng +/- 4%\n",
        "* Giai đoạn 2020-2021 động lợi nhuận của VN30 thay đổi (+/- 7% & trong thời điểm Convid và 02/2021\n",
        "* Thời gian gần đây (05-06/2021) +/- 4% vói tỷ lệ lợi nhuận Dương (>0) cao hơn so với tỷ lợi nhuận âm (<0)"
      ],
      "metadata": {
        "id": "SPVCFgkt8Ipe"
      }
    },
    {
      "cell_type": "code",
      "source": [
        "# np.cumprod(1+R[['FPT','VCB','BID','MWG']].loc['2019-01-01':]).plot(title='Cumulative Return of 04 Stocks from 01 Jan 2019')\n",
        "\n",
        "# np.cumprod(1+R[['FPT','VCB','BID','MWG']].loc['2020-01-01':]).plot(title='Cumulative Return of 04 Stocks from 01 Jan 2020')\n",
        "\n",
        "# a =1\n",
        "# for ticker in ['FPT','VCB','BID','MWG']:\n",
        "#   plt.subplot(2,2,a)\n",
        "#   plt.title(\"Cumulative Return of \"+ticker)\n",
        "#   plt.subplots_adjust (None, None, None, None, None, 0.5)\n",
        "#   np.cumprod(1+R[ticker]).loc['2020-01-01':].plot()\n",
        "#   a=a+1\n",
        "\n",
        "# # np.cumprod(1+R['FPT'].loc['2020-01-01':])"
      ],
      "metadata": {
        "id": "oqyfBIJJ8IGt"
      },
      "execution_count": null,
      "outputs": []
    },
    {
      "cell_type": "markdown",
      "source": [
        "Cumulative returns\n",
        "* Sau Convid (bắt đầu 07/2020 đến nay 06/2021) 03 mã cổ phiếu (FPT, VCB, MWG) đều đang đà tăng trưởng. Riêng FPT có đà tăng trưởng tốt với tỷ lệ là ~ 1.8 so với thời điểm 01/01/2020. \n",
        "* BIDV thì có thấy đà tăng trưởng nhưng thấp và kém nhất trong số 04 Mã cổ phiếu\n",
        "\n",
        "Commentary\n",
        "\n",
        "Sau đây là một số kết luận từ phân tích các biểu đồ lợi nhuận cho VN30 & 04 Mã cổ phiếu FPT, VCB, BID, MWG.\n",
        "\n",
        "1. VN30 & 04 Mã cổ phiếu có biên lợi nhuận giao động +/- 4 % trong giai đoạn 2019-01/2020\n",
        "\n",
        "2. VN30 & 04 Mã cổ phiếu có biên lợi nhuận giao động +/- 7-12 % trong giai đoạn COnvid và 02/2021.\n",
        "\n",
        "3. Lợi nhuận VN30 cho thấy VN30 đang có đà tăng trưởng từ 01/2021 đến nay \n",
        "\n",
        "4. Các mã cổ phiếu thể hiện đà tăng trưởng, riêng FPT có hiệu suất cao nhất"
      ],
      "metadata": {
        "id": "qTTn3TVS8Vh3"
      }
    }
  ]
}